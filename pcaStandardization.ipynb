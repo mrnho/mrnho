{
  "nbformat": 4,
  "nbformat_minor": 0,
  "metadata": {
    "colab": {
      "private_outputs": true,
      "provenance": [],
      "toc_visible": true,
      "authorship_tag": "ABX9TyPmBsfAlXpYleJd24uJF8jC",
      "include_colab_link": true
    },
    "kernelspec": {
      "name": "python3",
      "display_name": "Python 3"
    },
    "language_info": {
      "name": "python"
    }
  },
  "cells": [
    {
      "cell_type": "markdown",
      "metadata": {
        "id": "view-in-github",
        "colab_type": "text"
      },
      "source": [
        "<a href=\"https://colab.research.google.com/github/mrnho/mrnho/blob/master/pcaStandardization.ipynb\" target=\"_parent\"><img src=\"https://colab.research.google.com/assets/colab-badge.svg\" alt=\"Open In Colab\"/></a>"
      ]
    },
    {
      "cell_type": "code",
      "execution_count": null,
      "metadata": {
        "id": "sGwoxpJE0cev"
      },
      "outputs": [],
      "source": [
        "import numpy as np\n",
        "try:\n",
        "    import pandas as pd\n",
        "except ModuleNotFoundError:\n",
        "    %pip install -qq pandas\n",
        "    import pandas as pd\n",
        "import matplotlib.pyplot as plt\n",
        "try:\n",
        "    from sklearn.decomposition import PCA\n",
        "except ModuleNotFoundError:\n",
        "    %pip install -qq scikit-learn\n",
        "    from sklearn.decomposition import PCA\n",
        "from pathlib import Path\n",
        "\n",
        "import os\n",
        "import scipy.io\n",
        "\n",
        "# Get Data\n",
        "data_dir = Path('.').absolute().parent / 'data' / 'heightWeight'\n",
        "data = scipy.io.loadmat(data_dir / \"heightWeight.mat\")['heightWeightData']\n",
        "data = pd.DataFrame(data).rename(columns = {0:'gender', 1: 'height', 2: 'weight'})\n",
        "\n",
        "# Function for plotting categorical scatter plot with 1D PCA line\n",
        "def make_pca_plot(data):\n",
        "\n",
        "    pca = PCA(1)\n",
        "    X_reconstr = pca.inverse_transform(pca.fit_transform(data[['height','weight']].values))\n",
        "    X_reconstr = np.sort(X_reconstr,axis=0)\n",
        "    \n",
        "    fig, ax = plt.subplots(figsize=(6, 6))\n",
        "\n",
        "    for i, (name, group) in enumerate(data.groupby('gender')):\n",
        "        color = 'red' if i==1 else 'blue'\n",
        "        marker = 'o' if i==1 else 'x'\n",
        "        fc = 'none' if i==1 else 'blue'\n",
        "        ax.scatter(x=group['height'], y=group['weight'], color=color, marker=marker, facecolor=fc, s=100)\n",
        "        ax.set_ylabel('weight')\n",
        "        ax.set_xlabel('height')\n",
        "        ax.plot(X_reconstr[:,0], X_reconstr[:,1], color='black',linewidth=2)\n",
        "        \n",
        "    return fig, ax\n",
        "\n",
        "# Save figure function\n",
        "figdir = \"figures\"\n",
        "def savefig(fname): \n",
        "    plt.savefig(os.path.join(figdir, fname))\n",
        "    \n",
        "# Create and save figures\n",
        "fig, ax = make_pca_plot(data)\n",
        "ax.set_title('heightWeightPCA')\n",
        "savefig('heightWeightPCA.pdf')\n",
        "\n",
        "data_std = (data - data.mean())/data.std()\n",
        "fig, ax = make_pca_plot(data_std)\n",
        "ax.set_title('heightWeightPCAstnd')\n",
        "savefig('heightWeightPCAstnd.pdf')"
      ]
    }
  ]
}