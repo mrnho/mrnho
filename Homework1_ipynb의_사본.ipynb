{
  "nbformat": 4,
  "nbformat_minor": 0,
  "metadata": {
    "colab": {
      "private_outputs": true,
      "provenance": [],
      "authorship_tag": "ABX9TyNZVsOiFJ6a6VO+T7ZlfD+W",
      "include_colab_link": true
    },
    "kernelspec": {
      "name": "python3",
      "display_name": "Python 3"
    },
    "language_info": {
      "name": "python"
    }
  },
  "cells": [
    {
      "cell_type": "markdown",
      "metadata": {
        "id": "view-in-github",
        "colab_type": "text"
      },
      "source": [
        "<a href=\"https://colab.research.google.com/github/mrnho/mrnho/blob/master/Homework1_ipynb%EC%9D%98_%EC%82%AC%EB%B3%B8.ipynb\" target=\"_parent\"><img src=\"https://colab.research.google.com/assets/colab-badge.svg\" alt=\"Open In Colab\"/></a>"
      ]
    },
    {
      "cell_type": "code",
      "execution_count": null,
      "metadata": {
        "id": "sc1qMVPWmkfm"
      },
      "outputs": [],
      "source": [
        "import numpy as np\n",
        "import scipy.stats as stats\n",
        "import matplotlib.pyplot as plt\n",
        "%matplotlib inline\n",
        "\n",
        "def f(x):\n",
        "    return .5 * x + np.sqrt(np.max(x, 0)) - np.cos(x) + 2\n",
        "\n",
        "N = 100\n",
        "sigma_epsilon = 1\n",
        "x_max = 3\n",
        "x_test = 3.2\n",
        "x = x_max * (2 * np.random.rand(N) - 1)\n",
        "epsilon = sigma_epsilon * np.random.randn(N)\n",
        "\n",
        "y = f(x) + epsilon\n",
        "y_test = f(x_test) + sigma_epsilon * np.random.randn()\n",
        "\n",
        "plt.figure(figsize=(12, 6))\n",
        "x_range = np.linspace(-x_max, x_max, 1000)\n",
        "plt.scatter(x, y)\n",
        "plt.plot(x_range, f(x_range), 'r', linewidth=3.0)\n",
        "plt.scatter(x_test, y_test, c='r')\n",
        "plt.xlabel('x', size=12)\n",
        "plt.ylabel('y', size=12)\n",
        "plt.xticks(np.arange(-x_max, x_max + 1))\n",
        "plt.show()"
      ]
    }
  ]
}